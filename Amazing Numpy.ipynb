{
 "cells": [
  {
   "cell_type": "markdown",
   "metadata": {},
   "source": [
    "# INTRODUCTION"
   ]
  },
  {
   "cell_type": "markdown",
   "metadata": {},
   "source": [
    "This notebook is to highlight amazing functions available within numpy module which can play a crucial role in any data analysis or machine learning project. Inspiration for this has come from many articles written in <b><i> MEDIUM</b></i>."
   ]
  },
  {
   "cell_type": "code",
   "execution_count": 1,
   "metadata": {},
   "outputs": [],
   "source": [
    "import numpy as np\n",
    "import pandas as pd"
   ]
  },
  {
   "cell_type": "markdown",
   "metadata": {},
   "source": [
    "# NUMPY"
   ]
  },
  {
   "cell_type": "markdown",
   "metadata": {},
   "source": [
    "## ARGPARTITION"
   ]
  },
  {
   "cell_type": "markdown",
   "metadata": {},
   "source": [
    "This function can help you find out indices of N largest values in an array "
   ]
  },
  {
   "cell_type": "code",
   "execution_count": 2,
   "metadata": {},
   "outputs": [
    {
     "data": {
      "text/plain": [
       "array([ 6,  1,  3,  8,  7,  0, 10, 12, 29, 34, 55])"
      ]
     },
     "execution_count": 2,
     "metadata": {},
     "output_type": "execute_result"
    }
   ],
   "source": [
    "x = np.array([10, 12, 3, 8, 7, 55, 29, 34, 6, 0, 1])\n",
    "\n",
    "index_value = np.argpartition(x, -4)\n",
    "\n",
    "x[index_value]"
   ]
  },
  {
   "cell_type": "markdown",
   "metadata": {},
   "source": [
    "What happened here!!! \n",
    "\n",
    "Argpartition generated new indices for input array x where the whole array was divided into two parts. \n",
    "\n",
    "1st part has all indices for elements which are smaller than 34 and second part has indices for elements which are greter than or equal to 34. \n",
    "\n",
    "34 is chosen since it represents -4th element of array x."
   ]
  },
  {
   "cell_type": "markdown",
   "metadata": {},
   "source": [
    "## ALLCLOSE"
   ]
  },
  {
   "cell_type": "markdown",
   "metadata": {},
   "source": [
    "This can help in comparing two arrays with a tolerance"
   ]
  },
  {
   "cell_type": "code",
   "execution_count": 3,
   "metadata": {},
   "outputs": [
    {
     "name": "stdout",
     "output_type": "stream",
     "text": [
      "Match : False with a tolerance of 0.1\n",
      "Match : True with a tolerance of 0.2\n"
     ]
    }
   ],
   "source": [
    "x1 = np.array([0.12, 0.17, 0.24, 0.29])\n",
    "x2 = np.array([0.13, 0.19, 0.26, 0.31])\n",
    "\n",
    "print(\"Match : {} with a tolerance of {}\".format(np.allclose(x1, x2, 0.1), 0.1))\n",
    "print(\"Match : {} with a tolerance of {}\".format(np.allclose(x1, x2, 0.2), 0.2))\n"
   ]
  },
  {
   "cell_type": "markdown",
   "metadata": {},
   "source": [
    "## CLIP"
   ]
  },
  {
   "cell_type": "markdown",
   "metadata": {},
   "source": [
    "This helps in limiting values of an array within a limit (good use case is outlier treatment of continuous variables)"
   ]
  },
  {
   "cell_type": "code",
   "execution_count": 4,
   "metadata": {},
   "outputs": [
    {
     "data": {
      "text/plain": [
       "array([ 2, 10, 12, 15,  6, 18, 19, 20, 20,  8])"
      ]
     },
     "execution_count": 4,
     "metadata": {},
     "output_type": "execute_result"
    }
   ],
   "source": [
    "x = np.array([2, 10, 12, 15, 6, 18, 19, 22, 34, 8])\n",
    "\n",
    "np.clip(x, 2, 20)"
   ]
  },
  {
   "cell_type": "markdown",
   "metadata": {},
   "source": [
    "## EXTRACT"
   ]
  },
  {
   "cell_type": "markdown",
   "metadata": {},
   "source": [
    "Helpful to extract specific elements based on certain conditions"
   ]
  },
  {
   "cell_type": "code",
   "execution_count": 5,
   "metadata": {},
   "outputs": [
    {
     "name": "stdout",
     "output_type": "stream",
     "text": [
      "Input Array: [ 7  6 24 19 11 29 29 16 19  1]\n",
      "Elements greater than 5 and less than 15 : [ 7  6 11]\n"
     ]
    }
   ],
   "source": [
    "x = np.random.randint(30, size = 10)\n",
    "\n",
    "print(\"Input Array: {}\".format(x))\n",
    "\n",
    "print(\"Elements greater than 5 and less than 15 : {}\".format(np.extract((x > 5)&(x < 15), x)))"
   ]
  },
  {
   "cell_type": "markdown",
   "metadata": {},
   "source": [
    "## WHERE"
   ]
  },
  {
   "cell_type": "markdown",
   "metadata": {},
   "source": [
    "This function is similar as \"extract\" and instead returns indices of the elements"
   ]
  },
  {
   "cell_type": "code",
   "execution_count": 6,
   "metadata": {},
   "outputs": [
    {
     "name": "stdout",
     "output_type": "stream",
     "text": [
      "Input Array: [11  9  0 19  2 14  4 10 21 28]\n",
      "Indice of elements greater than 5 and less than 15 : (array([0, 1, 5, 7], dtype=int64),)\n"
     ]
    }
   ],
   "source": [
    "x = np.random.randint(30, size = 10)\n",
    "\n",
    "print(\"Input Array: {}\".format(x))\n",
    "\n",
    "print(\"Indice of elements greater than 5 and less than 15 : {}\".format(np.where((x > 5)&(x < 15))))"
   ]
  },
  {
   "cell_type": "markdown",
   "metadata": {},
   "source": [
    "## PERCENTILE"
   ]
  },
  {
   "cell_type": "markdown",
   "metadata": {},
   "source": [
    "Useful for calculating percentiles along specified axis"
   ]
  },
  {
   "cell_type": "code",
   "execution_count": 7,
   "metadata": {},
   "outputs": [
    {
     "data": {
      "text/plain": [
       "6.5"
      ]
     },
     "execution_count": 7,
     "metadata": {},
     "output_type": "execute_result"
    }
   ],
   "source": [
    "a = np.array([1, 5, 6, 8, 10, 11, 7, 2])\n",
    "\n",
    "np.percentile(a, 50)"
   ]
  },
  {
   "cell_type": "code",
   "execution_count": 8,
   "metadata": {},
   "outputs": [
    {
     "data": {
      "text/plain": [
       "array([ 8., 10., 11.])"
      ]
     },
     "execution_count": 8,
     "metadata": {},
     "output_type": "execute_result"
    }
   ],
   "source": [
    "b = np.array([[5, 8, 9], [11, 12, 13]])\n",
    "np.percentile(b, 50, axis = 0)"
   ]
  },
  {
   "cell_type": "markdown",
   "metadata": {},
   "source": [
    "## ARGMIN, ARGMAX, ARGSORT"
   ]
  },
  {
   "cell_type": "markdown",
   "metadata": {},
   "source": [
    "These functions return indices of things asked and of great help if you don't want to implement the logic all by yourself"
   ]
  },
  {
   "cell_type": "code",
   "execution_count": 9,
   "metadata": {},
   "outputs": [
    {
     "name": "stdout",
     "output_type": "stream",
     "text": [
      "Index of minimum value: 2\n",
      "Index of maximum value: 5\n",
      "Indices of sorted values: [2 3 7 4 6 0 1 5]\n"
     ]
    }
   ],
   "source": [
    "scores = np.array([55, 80, 7, 10, 34, 88, 42, 13])\n",
    "\n",
    "print(\"Index of minimum value: {}\".format(scores.argmin()))\n",
    "\n",
    "print(\"Index of maximum value: {}\".format(scores.argmax()))\n",
    "\n",
    "print(\"Indices of sorted values: {}\".format(scores.argsort()))"
   ]
  },
  {
   "cell_type": "markdown",
   "metadata": {},
   "source": [
    "## INTERSECT1D"
   ]
  },
  {
   "cell_type": "markdown",
   "metadata": {},
   "source": [
    "This will quickly return intersection of two arrays, a great way to pick up common items between long lists"
   ]
  },
  {
   "cell_type": "code",
   "execution_count": 10,
   "metadata": {},
   "outputs": [
    {
     "name": "stdout",
     "output_type": "stream",
     "text": [
      "Common items between x and y are : [ 1  6  7 18]\n"
     ]
    }
   ],
   "source": [
    "x = np.random.randint(20, size = 10)\n",
    "y = np.random.randint(20, size = 15)\n",
    "\n",
    "print(\"Common items between x and y are : {}\".format(np.intersect1d(x, y)))"
   ]
  },
  {
   "cell_type": "markdown",
   "metadata": {},
   "source": [
    "## HSTACK, VSTACK"
   ]
  },
  {
   "cell_type": "markdown",
   "metadata": {},
   "source": [
    "These functions are helpful in combining arrays"
   ]
  },
  {
   "cell_type": "code",
   "execution_count": 11,
   "metadata": {},
   "outputs": [
    {
     "name": "stdout",
     "output_type": "stream",
     "text": [
      "[[ 1  2  3]\n",
      " [ 8  9 10]\n",
      " [ 0  2  4]\n",
      " [ 1  3  5]]\n",
      "[[ 1  2  3  0  2  4]\n",
      " [ 8  9 10  1  3  5]]\n"
     ]
    }
   ],
   "source": [
    "a = np.array([[1, 2, 3], [8, 9, 10]])\n",
    "\n",
    "b = np.array([[0, 2, 4], [1, 3, 5]])\n",
    "\n",
    "print(np.vstack([a, b]))\n",
    "\n",
    "print(np.hstack([a, b]))"
   ]
  },
  {
   "cell_type": "markdown",
   "metadata": {},
   "source": [
    "Good use case of these functions are in deep learning models when multiple data sources (coming in form of arrays) are needed to be combined to fetch into the layers."
   ]
  },
  {
   "cell_type": "markdown",
   "metadata": {},
   "source": [
    "## LINSPACE"
   ]
  },
  {
   "cell_type": "markdown",
   "metadata": {},
   "source": [
    "This function helps in generating a uniformly distributed data within a range"
   ]
  },
  {
   "cell_type": "code",
   "execution_count": 12,
   "metadata": {},
   "outputs": [
    {
     "name": "stdout",
     "output_type": "stream",
     "text": [
      "10 uniformly distributed points between 10 & 50 are : [10.   14.44 18.89 23.33 27.78 32.22 36.67 41.11 45.56 50.  ]\n"
     ]
    }
   ],
   "source": [
    "np.set_printoptions(precision = 2)\n",
    "print(\"10 uniformly distributed points between 10 & 50 are : {}\".format(np.linspace(10, 50, 10)))"
   ]
  },
  {
   "cell_type": "markdown",
   "metadata": {},
   "source": [
    "# CONCLUSION"
   ]
  },
  {
   "cell_type": "markdown",
   "metadata": {},
   "source": [
    "Numpy is a great libray for any data science task and has many great tools to help in any project. I will keep on adding things to this notebook as I gain more knowledge on this beautiful module."
   ]
  }
 ],
 "metadata": {
  "hide_input": false,
  "kernelspec": {
   "display_name": "Python 3",
   "language": "python",
   "name": "python3"
  },
  "language_info": {
   "codemirror_mode": {
    "name": "ipython",
    "version": 3
   },
   "file_extension": ".py",
   "mimetype": "text/x-python",
   "name": "python",
   "nbconvert_exporter": "python",
   "pygments_lexer": "ipython3",
   "version": "3.6.9"
  },
  "toc": {
   "base_numbering": 1,
   "nav_menu": {},
   "number_sections": true,
   "sideBar": true,
   "skip_h1_title": false,
   "title_cell": "Table of Contents",
   "title_sidebar": "Contents",
   "toc_cell": false,
   "toc_position": {
    "height": "calc(100% - 180px)",
    "left": "10px",
    "top": "150px",
    "width": "172.8px"
   },
   "toc_section_display": true,
   "toc_window_display": true
  }
 },
 "nbformat": 4,
 "nbformat_minor": 2
}
